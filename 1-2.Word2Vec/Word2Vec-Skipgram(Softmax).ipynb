{
 "cells": [
  {
   "cell_type": "code",
   "execution_count": 2,
   "id": "2735f7f0",
   "metadata": {},
   "outputs": [],
   "source": [
    "import numpy as np\n",
    "import torch\n",
    "import torch.nn as nn\n",
    "import torch.optim as optim\n",
    "import matplotlib.pyplot as plt"
   ]
  },
  {
   "cell_type": "code",
   "execution_count": 3,
   "id": "ace5d560",
   "metadata": {},
   "outputs": [],
   "source": [
    "def random_batch():\n",
    "    random_inputs = []\n",
    "    random_labels = []\n",
    "    # batch_size개의 랜덤한 인덱스 뽑기\n",
    "    random_index = np.random.choice(range(len(skip_grams)), batch_size, replace=False)\n",
    "    \n",
    "    input_vectors = np.eye(vocab_size) # vocab_size x vocab_size인 단위행렬(항등행렬)\n",
    "    for idx in random_index:\n",
    "        random_inputs.append(input_vectors[skip_grams[idx][0]]) # target의 input vector\n",
    "        random_labels.append(skip_grams[idx][1]) # context word (index)\n",
    "        \n",
    "    return random_inputs, random_labels"
   ]
  },
  {
   "cell_type": "code",
   "execution_count": 4,
   "id": "5b394a24",
   "metadata": {},
   "outputs": [],
   "source": [
    "class Word2Vec(nn.Module):\n",
    "    def __init__(self):\n",
    "        super(Word2Vec, self).__init__()\n",
    "        \n",
    "        self.W = nn.Linear(vocab_size, embedding_size, bias=False)\n",
    "        self.WT = nn.Linear(embedding_size, vocab_size, bias=False)\n",
    "        \n",
    "    def forward(self, X):\n",
    "        # X: (batch_size, vocab_size) # random_inputs\n",
    "        hidden_layer = self.W(X) # (batch_size, embedding_size)\n",
    "        output_layer = self.WT(hidden_layer) # (batch_size, vocab_size)\n",
    "        return output_layer"
   ]
  },
  {
   "cell_type": "code",
   "execution_count": 5,
   "id": "e8702e95",
   "metadata": {},
   "outputs": [],
   "source": [
    "batch_size = 2 # mini-batch\n",
    "embedding_size = 2\n",
    "\n",
    "sentences = [\"apple banana fruit\", \"banana orange fruit\", \"orange banana fruit\", \\\n",
    "             \"dog cat animal\", \"cat monkey animal\", \"monkey dog animal\"]"
   ]
  },
  {
   "cell_type": "code",
   "execution_count": 6,
   "id": "ac2fa0d1",
   "metadata": {},
   "outputs": [
    {
     "data": {
      "text/plain": [
       "['apple',\n",
       " 'banana',\n",
       " 'fruit',\n",
       " 'banana',\n",
       " 'orange',\n",
       " 'fruit',\n",
       " 'orange',\n",
       " 'banana',\n",
       " 'fruit',\n",
       " 'dog',\n",
       " 'cat',\n",
       " 'animal',\n",
       " 'cat',\n",
       " 'monkey',\n",
       " 'animal',\n",
       " 'monkey',\n",
       " 'dog',\n",
       " 'animal']"
      ]
     },
     "execution_count": 6,
     "metadata": {},
     "output_type": "execute_result"
    }
   ],
   "source": [
    "word_sequence = \" \".join(sentences).split() # 모든 단어 리스트\n",
    "word_sequence"
   ]
  },
  {
   "cell_type": "code",
   "execution_count": 7,
   "id": "f3049f8f",
   "metadata": {},
   "outputs": [
    {
     "data": {
      "text/plain": [
       "['monkey', 'fruit', 'apple', 'orange', 'cat', 'animal', 'banana', 'dog']"
      ]
     },
     "execution_count": 7,
     "metadata": {},
     "output_type": "execute_result"
    }
   ],
   "source": [
    "word_list = list(set(word_sequence)) # 중복 단어 제거한 리스트\n",
    "word_list"
   ]
  },
  {
   "cell_type": "code",
   "execution_count": 8,
   "id": "07c0a649",
   "metadata": {},
   "outputs": [
    {
     "data": {
      "text/plain": [
       "{'monkey': 0,\n",
       " 'fruit': 1,\n",
       " 'apple': 2,\n",
       " 'orange': 3,\n",
       " 'cat': 4,\n",
       " 'animal': 5,\n",
       " 'banana': 6,\n",
       " 'dog': 7}"
      ]
     },
     "execution_count": 8,
     "metadata": {},
     "output_type": "execute_result"
    }
   ],
   "source": [
    "word_dict = {word: idx for idx, word in enumerate(word_list)}\n",
    "word_dict"
   ]
  },
  {
   "cell_type": "code",
   "execution_count": 9,
   "id": "fc77938f",
   "metadata": {},
   "outputs": [],
   "source": [
    "vocab_size = len(word_list)"
   ]
  },
  {
   "cell_type": "code",
   "execution_count": 10,
   "id": "3480ed47",
   "metadata": {},
   "outputs": [],
   "source": [
    "skip_grams = []\n",
    "for idx in range(1, len(word_sequence) - 1):\n",
    "    target = word_dict[word_sequence[idx]] # 단어의 인덱스\n",
    "    context = [word_dict[word_sequence[idx - 1]], word_dict[word_sequence[idx + 1]]]\n",
    "    for w in context:\n",
    "        skip_grams.append([target, w])"
   ]
  },
  {
   "cell_type": "code",
   "execution_count": 11,
   "id": "5fdf2d99",
   "metadata": {},
   "outputs": [
    {
     "data": {
      "text/plain": [
       "[[6, 2],\n",
       " [6, 1],\n",
       " [1, 6],\n",
       " [1, 6],\n",
       " [6, 1],\n",
       " [6, 3],\n",
       " [3, 6],\n",
       " [3, 1],\n",
       " [1, 3],\n",
       " [1, 3],\n",
       " [3, 1],\n",
       " [3, 6],\n",
       " [6, 3],\n",
       " [6, 1],\n",
       " [1, 6],\n",
       " [1, 7],\n",
       " [7, 1],\n",
       " [7, 4],\n",
       " [4, 7],\n",
       " [4, 5],\n",
       " [5, 4],\n",
       " [5, 4],\n",
       " [4, 5],\n",
       " [4, 0],\n",
       " [0, 4],\n",
       " [0, 5],\n",
       " [5, 0],\n",
       " [5, 0],\n",
       " [0, 5],\n",
       " [0, 7],\n",
       " [7, 0],\n",
       " [7, 5]]"
      ]
     },
     "execution_count": 11,
     "metadata": {},
     "output_type": "execute_result"
    }
   ],
   "source": [
    "skip_grams"
   ]
  },
  {
   "cell_type": "code",
   "execution_count": 16,
   "id": "9f7186ce",
   "metadata": {},
   "outputs": [],
   "source": [
    "model = Word2Vec()\n",
    "\n",
    "criterion = nn.CrossEntropyLoss()\n",
    "optimizer = optim.Adam(model.parameters(), lr=0.001)"
   ]
  },
  {
   "cell_type": "code",
   "execution_count": 17,
   "id": "7885215b",
   "metadata": {},
   "outputs": [
    {
     "name": "stdout",
     "output_type": "stream",
     "text": [
      "Epoch: 1000  cost: 1.396200\n",
      "Epoch: 2000  cost: 2.009082\n",
      "Epoch: 3000  cost: 1.294001\n",
      "Epoch: 4000  cost: 1.384461\n",
      "Epoch: 5000  cost: 0.652075\n"
     ]
    }
   ],
   "source": [
    "# Training\n",
    "\n",
    "for epoch in range(5000):\n",
    "    input_batch, target_batch = random_batch() # batch_size개의 input과 target\n",
    "    input_batch = torch.Tensor(input_batch)\n",
    "    target_batch = torch.LongTensor(target_batch) # Tensor()는 float만 가능해서 LongTensor()로\n",
    "    \n",
    "    optimizer.zero_grad()\n",
    "    output = model(input_batch)\n",
    "    \n",
    "    loss = criterion(output, target_batch)\n",
    "    if (epoch + 1) % 1000 == 0:\n",
    "        print('Epoch: {:4d}  cost: {:.6f}'.format(epoch + 1, loss))\n",
    "        \n",
    "    loss.backward()\n",
    "    optimizer.step()"
   ]
  },
  {
   "cell_type": "code",
   "execution_count": 18,
   "id": "4ee6e221",
   "metadata": {},
   "outputs": [
    {
     "data": {
      "image/png": "[encoded data removed]",
      "text/plain": [
       "<Figure size 432x288 with 1 Axes>"
      ]
     },
     "metadata": {
      "needs_background": "light"
     },
     "output_type": "display_data"
    }
   ],
   "source": [
    "for idx, label in enumerate(word_list):\n",
    "    W, WT = model.parameters()\n",
    "    x, y = W[0][idx].item(), W[1][idx].item()\n",
    "    plt.scatter(x, y)\n",
    "    plt.annotate(label, xy=(x, y), xytext=(5, 2), textcoords='offset points', ha='right', va='bottom')\n",
    "plt.show()"
   ]
  }
 ],
 "metadata": {
  "kernelspec": {
   "display_name": "Python 3 (ipykernel)",
   "language": "python",
   "name": "python3"
  },
  "language_info": {
   "codemirror_mode": {
    "name": "ipython",
    "version": 3
   },
   "file_extension": ".py",
   "mimetype": "text/x-python",
   "name": "python",
   "nbconvert_exporter": "python",
   "pygments_lexer": "ipython3",
   "version": "3.7.9"
  }
 },
 "nbformat": 4,
 "nbformat_minor": 5
}

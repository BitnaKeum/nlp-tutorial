{
 "cells": [
  {
   "cell_type": "code",
   "execution_count": 1,
   "id": "77343d2f",
   "metadata": {},
   "outputs": [],
   "source": [
    "import numpy as np\n",
    "import torch\n",
    "import torch.nn as nn\n",
    "import torch.optim as optim"
   ]
  },
  {
   "cell_type": "code",
   "execution_count": 9,
   "id": "83be3b00",
   "metadata": {},
   "outputs": [],
   "source": [
    "def make_batch():\n",
    "    input_batch = []\n",
    "    target_batch = []\n",
    "    \n",
    "    input_vectors = np.eye(vocab_size)\n",
    "    for sentence in sentences:\n",
    "        words = sentence.split()\n",
    "        input = [word_to_idx[word] for word in words[:-1]] # 0~(n-1)번째\n",
    "        target = word_to_idx[words[-1]] # n번째\n",
    "        \n",
    "        input_batch.append(input_vectors[input])\n",
    "        target_batch.append(target)\n",
    "    \n",
    "    return input_batch, target_batch"
   ]
  },
  {
   "cell_type": "code",
   "execution_count": 50,
   "id": "ebc66f1e",
   "metadata": {},
   "outputs": [],
   "source": [
    "class TextRNN(nn.Module):\n",
    "    def __init__(self):\n",
    "        super(TextRNN, self).__init__()\n",
    "        self.rnn = nn.RNN(input_size=vocab_size, hidden_size=n_hidden)\n",
    "        self.W = nn.Linear(n_hidden, vocab_size, bias=False)\n",
    "        self.b = nn.Parameter(torch.ones([vocab_size]))\n",
    "        \n",
    "    def forward(self, hidden, X):\n",
    "        # X: (batch_size, n_step, vocab_size)\n",
    "        # hidden: (1, batch_size, n_hidden)\n",
    "        \n",
    "        X = X.transpose(0, 1) # (n_step, batch_size, vocab_size)\n",
    "        outputs, hidden = self.rnn(X, hidden)\n",
    "        # outputs: (n_step, batch_size, n_hidden)\n",
    "        # hidden: (1, batch_size, n_hidden)\n",
    "        \n",
    "        outputs = outputs[-1] # (batch_size, n_hidden)\n",
    "        result = self.W(outputs) + self.b # (n_step, batch_size, vocab_size)\n",
    "        \n",
    "        return result"
   ]
  },
  {
   "cell_type": "code",
   "execution_count": 51,
   "id": "9f79d9ae",
   "metadata": {},
   "outputs": [],
   "source": [
    "n_step = 2 # number of cells(steps)\n",
    "n_hidden = 5 # number of hidden units in one cell"
   ]
  },
  {
   "cell_type": "code",
   "execution_count": 52,
   "id": "9e061952",
   "metadata": {},
   "outputs": [],
   "source": [
    "sentences = [\"i like dog\", 'i love coffee', 'i hate milk']\n",
    "\n",
    "word_list = \" \".join(sentences).split()\n",
    "word_list = list(set(word_list))\n",
    "word_to_idx = {word: idx for idx, word in enumerate(word_list)}\n",
    "idx_to_word = {idx: word for idx, word in enumerate(word_list)}\n",
    "vocab_size = len(word_list)\n",
    "batch_size = len(sentences)"
   ]
  },
  {
   "cell_type": "code",
   "execution_count": 53,
   "id": "2e592981",
   "metadata": {},
   "outputs": [],
   "source": [
    "model = TextRNN()\n",
    "\n",
    "criterion = nn.CrossEntropyLoss()\n",
    "optimizer = optim.Adam(model.parameters(), lr=0.001)"
   ]
  },
  {
   "cell_type": "code",
   "execution_count": 54,
   "id": "ef770c86",
   "metadata": {},
   "outputs": [],
   "source": [
    "input_batch, target_batch = make_batch()\n",
    "input_batch = torch.FloatTensor(input_batch)\n",
    "target_batch = torch.LongTensor(target_batch)"
   ]
  },
  {
   "cell_type": "code",
   "execution_count": 57,
   "id": "7b2712df",
   "metadata": {},
   "outputs": [
    {
     "name": "stdout",
     "output_type": "stream",
     "text": [
      "Epoch: 1000  loss: 0.027595\n",
      "Epoch: 2000  loss: 0.011142\n",
      "Epoch: 3000  loss: 0.005526\n",
      "Epoch: 4000  loss: 0.003005\n",
      "Epoch: 5000  loss: 0.001713\n"
     ]
    }
   ],
   "source": [
    "# Training\n",
    "\n",
    "EPOCHS = 5000\n",
    "\n",
    "for epoch in range(EPOCHS):\n",
    "    optimizer.zero_grad()\n",
    "    \n",
    "    hidden = torch.zeros(1, batch_size, n_hidden)\n",
    "    output = model(hidden, input_batch)\n",
    "    \n",
    "    loss = criterion(output, target_batch)\n",
    "    if (epoch + 1) % 1000 == 0:\n",
    "        print('Epoch: {:4d}  loss: {:.6f}'.format(epoch + 1, loss))\n",
    "        \n",
    "    loss.backward()\n",
    "    optimizer.step()"
   ]
  },
  {
   "cell_type": "code",
   "execution_count": 85,
   "id": "380f8e2d",
   "metadata": {},
   "outputs": [
    {
     "name": "stdout",
     "output_type": "stream",
     "text": [
      "original sentence -> predict\n",
      "============================\n",
      "i like dog -> dog\n",
      "i love coffee -> coffee\n",
      "i hate milk -> milk\n"
     ]
    }
   ],
   "source": [
    "# Predict\n",
    "\n",
    "hidden = torch.zeros(1, batch_size, n_hidden)\n",
    "predict = model(hidden, input_batch).data.max(1, keepdim=True)[1]\n",
    "\n",
    "print('original sentence -> predict')\n",
    "print('============================')\n",
    "for i, sentence in enumerate(sentences):\n",
    "    print(sentence, '->' , idx_to_word[predict[i].item()])"
   ]
  },
  {
   "cell_type": "code",
   "execution_count": 80,
   "id": "445fc7e5",
   "metadata": {},
   "outputs": [
    {
     "data": {
      "text/plain": [
       "tensor([[3],\n",
       "        [0],\n",
       "        [1]])"
      ]
     },
     "execution_count": 80,
     "metadata": {},
     "output_type": "execute_result"
    }
   ],
   "source": [
    "# predict"
   ]
  },
  {
   "cell_type": "code",
   "execution_count": null,
   "id": "f844626d",
   "metadata": {},
   "outputs": [],
   "source": []
  },
  {
   "cell_type": "markdown",
   "id": "0da33f74",
   "metadata": {},
   "source": [
    "shape 확인 테스트"
   ]
  },
  {
   "cell_type": "code",
   "execution_count": 40,
   "id": "5401c23f",
   "metadata": {},
   "outputs": [],
   "source": [
    "# rnn = nn.RNN(input_size=vocab_size, hidden_size=n_hidden)\n",
    "# W = nn.Linear(n_hidden, vocab_size, bias=False)\n",
    "# b = nn.Parameter(torch.ones([vocab_size]))"
   ]
  },
  {
   "cell_type": "code",
   "execution_count": 41,
   "id": "137199a4",
   "metadata": {},
   "outputs": [],
   "source": [
    "# hidden = torch.zeros(1, batch_size, n_hidden)"
   ]
  },
  {
   "cell_type": "code",
   "execution_count": 42,
   "id": "96205dbd",
   "metadata": {},
   "outputs": [
    {
     "name": "stdout",
     "output_type": "stream",
     "text": [
      "torch.Size([3, 2, 7])\n",
      "torch.Size([2, 3, 7])\n"
     ]
    }
   ],
   "source": [
    "# X = input_batch\n",
    "# print(X.shape)\n",
    "# X = X.transpose(0, 1)\n",
    "# print(X.shape)"
   ]
  },
  {
   "cell_type": "code",
   "execution_count": 45,
   "id": "d4e583f3",
   "metadata": {},
   "outputs": [
    {
     "name": "stdout",
     "output_type": "stream",
     "text": [
      "torch.Size([2, 3, 5])\n",
      "torch.Size([1, 3, 5])\n"
     ]
    }
   ],
   "source": [
    "# outputs, hidden = rnn(X, hidden)\n",
    "# print(outputs.shape)\n",
    "# print(hidden.shape)"
   ]
  },
  {
   "cell_type": "code",
   "execution_count": 36,
   "id": "53fb1b83",
   "metadata": {},
   "outputs": [
    {
     "data": {
      "text/plain": [
       "torch.Size([3, 5])"
      ]
     },
     "execution_count": 36,
     "metadata": {},
     "output_type": "execute_result"
    }
   ],
   "source": [
    "# outputs = outputs[-1]\n",
    "# outputs.shape"
   ]
  },
  {
   "cell_type": "code",
   "execution_count": 38,
   "id": "bd9ce9f2",
   "metadata": {},
   "outputs": [
    {
     "data": {
      "text/plain": [
       "torch.Size([3, 7])"
      ]
     },
     "execution_count": 38,
     "metadata": {},
     "output_type": "execute_result"
    }
   ],
   "source": [
    "# # (batch_size, n_hidden) x (n_hidden, vocab_size) = (batch_size, vocab_size)\n",
    "# W(outputs).shape "
   ]
  },
  {
   "cell_type": "code",
   "execution_count": 49,
   "id": "f0287096",
   "metadata": {},
   "outputs": [
    {
     "data": {
      "text/plain": [
       "torch.Size([2, 3, 7])"
      ]
     },
     "execution_count": 49,
     "metadata": {},
     "output_type": "execute_result"
    }
   ],
   "source": [
    "# result = W(outputs) + b\n",
    "# result.shape"
   ]
  }
 ],
 "metadata": {
  "kernelspec": {
   "display_name": "Python 3 (ipykernel)",
   "language": "python",
   "name": "python3"
  },
  "language_info": {
   "codemirror_mode": {
    "name": "ipython",
    "version": 3
   },
   "file_extension": ".py",
   "mimetype": "text/x-python",
   "name": "python",
   "nbconvert_exporter": "python",
   "pygments_lexer": "ipython3",
   "version": "3.7.9"
  }
 },
 "nbformat": 4,
 "nbformat_minor": 5
}

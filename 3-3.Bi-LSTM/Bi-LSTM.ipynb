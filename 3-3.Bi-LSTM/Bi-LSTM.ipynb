{
 "cells": [
  {
   "cell_type": "code",
   "execution_count": 33,
   "id": "95817c66",
   "metadata": {},
   "outputs": [],
   "source": [
    "import numpy as np\n",
    "import torch\n",
    "import torch.nn as nn\n",
    "import torch.optim as optim"
   ]
  },
  {
   "cell_type": "code",
   "execution_count": 34,
   "id": "70fab339",
   "metadata": {},
   "outputs": [],
   "source": [
    "def make_batch():\n",
    "    input_batch, target_batch = [], []\n",
    "    \n",
    "    input_vector = np.eye(vocab_size)\n",
    "    \n",
    "    sentence_words = \" \".join(sentences).split()\n",
    "    for i, word in enumerate(sentence_words[:-1]):\n",
    "        input = [word_to_idx[word] for word in sentence_words[:i + 1]] \n",
    "        input = input + [0] * (max_len - len(input))\n",
    "        target = word_to_idx[sentence_words[i + 1]]\n",
    "        \n",
    "        input_batch.append(input_vector[input])\n",
    "        target_batch.append(target)\n",
    "        \n",
    "    return input_batch, target_batch"
   ]
  },
  {
   "cell_type": "code",
   "execution_count": 35,
   "id": "3d0d3c6f",
   "metadata": {},
   "outputs": [],
   "source": [
    "class BiLSTM(nn.Module):\n",
    "    ### LSTM과 코드가 달라진 부분 ###\n",
    "    # self.lstm의 bidirectional 파라미터\n",
    "    # self.W의 차원\n",
    "    # hidden_state의 차원\n",
    "    # cell_state의 차원\n",
    "    \n",
    "    def __init__(self):\n",
    "        super(BiLSTM, self).__init__()\n",
    "        \n",
    "        self.lstm = nn.LSTM(input_size=vocab_size, hidden_size=n_hidden, bidirectional=True)\n",
    "        self.W = nn.Linear(n_hidden * 2, vocab_size, bias=False)\n",
    "        self.b = nn.Parameter(torch.ones([vocab_size]))\n",
    "        \n",
    "    def forward(self, X):\n",
    "        # X: (batch_size, n_step, vocab_size)\n",
    "        batch_size = len(X)\n",
    "        \n",
    "        X = X.transpose(0, 1) # X: (n_step, batch_size, vocab_size)\n",
    "        hidden_state = torch.zeros(1*2, batch_size, n_hidden) # 1*2 = num_layers*num_directions\n",
    "        cell_state = torch.zeros(1*2, batch_size, n_hidden)\n",
    "        \n",
    "        outputs, (_, _) = self.lstm(X, (hidden_state, cell_state))\n",
    "        outputs = outputs[-1] # (batch_size, n_hidden * 2)\n",
    "        result = self.W(outputs) + self.b # (batch_size, vocab_size)\n",
    "        return result"
   ]
  },
  {
   "cell_type": "code",
   "execution_count": 36,
   "id": "81747506",
   "metadata": {},
   "outputs": [],
   "source": [
    "n_hidden = 5"
   ]
  },
  {
   "cell_type": "code",
   "execution_count": 37,
   "id": "e93a12f5",
   "metadata": {},
   "outputs": [],
   "source": [
    "sentences = [\"Lorem ipsum dolor sit amet consectetur adipisicing elit\", \"sed do eiusmod tempor incididunt ut labore et dolore magna\", \"aliqua Ut enim ad minim veniam quis nostrud exercitation\"]\n",
    "\n",
    "words = \" \".join(sentences).split()\n",
    "max_len = len(words)\n",
    "words = list(set(words)) # 중복 단어 제거\n",
    "\n",
    "word_to_idx = {word: idx for idx, word in enumerate(words)}\n",
    "idx_to_word = {idx: word for idx, word in enumerate(words)}\n",
    "vocab_size = len(words)"
   ]
  },
  {
   "cell_type": "code",
   "execution_count": 38,
   "id": "67499d8f",
   "metadata": {},
   "outputs": [],
   "source": [
    "model = BiLSTM()\n",
    "\n",
    "criterion = nn.CrossEntropyLoss()\n",
    "optimizer = optim.Adam(model.parameters(), lr=0.001)\n",
    "\n",
    "input_batch, target_batch = make_batch()\n",
    "input_batch = torch.FloatTensor(input_batch)\n",
    "target_batch = torch.LongTensor(target_batch)"
   ]
  },
  {
   "cell_type": "code",
   "execution_count": 39,
   "id": "475ab424",
   "metadata": {
    "scrolled": true
   },
   "outputs": [
    {
     "name": "stdout",
     "output_type": "stream",
     "text": [
      "Epoch : 1000  loss : 1.823740\n",
      "Epoch : 2000  loss : 1.491018\n",
      "Epoch : 3000  loss : 1.247711\n",
      "Epoch : 4000  loss : 1.144609\n",
      "Epoch : 5000  loss : 1.002288\n",
      "Epoch : 6000  loss : 0.513472\n",
      "Epoch : 7000  loss : 0.311971\n",
      "Epoch : 8000  loss : 0.210143\n",
      "Epoch : 9000  loss : 0.150546\n",
      "Epoch : 10000  loss : 0.118463\n"
     ]
    }
   ],
   "source": [
    "# Training\n",
    "for epoch in range(10000):\n",
    "    optimizer.zero_grad()\n",
    "    output = model(input_batch)\n",
    "    loss = criterion(output, target_batch)\n",
    "    \n",
    "    if (epoch + 1) % 1000 == 0:\n",
    "        print(\"Epoch : {:4d}  loss : {:.6f}\".format(epoch + 1, loss))\n",
    "        \n",
    "    loss.backward()\n",
    "    optimizer.step()"
   ]
  },
  {
   "cell_type": "code",
   "execution_count": 41,
   "id": "236d5d36",
   "metadata": {},
   "outputs": [
    {
     "name": "stdout",
     "output_type": "stream",
     "text": [
      "['Lorem ipsum dolor sit amet consectetur adipisicing elit', 'sed do eiusmod tempor incididunt ut labore et dolore magna', 'aliqua Ut enim ad minim veniam quis nostrud exercitation']\n",
      "['ipsum', 'dolor', 'sit', 'amet', 'amet', 'adipisicing', 'elit', 'sed', 'do', 'eiusmod', 'tempor', 'incididunt', 'ut', 'labore', 'et', 'dolore', 'magna', 'aliqua', 'Ut', 'enim', 'ad', 'minim', 'veniam', 'quis', 'nostrud', 'exercitation']\n"
     ]
    }
   ],
   "source": [
    "# Predict\n",
    "predicts = model(input_batch).data.max(1, keepdim=True)[1]\n",
    "\n",
    "print(sentences)\n",
    "print([idx_to_word[predict.item()] for predict in predicts.squeeze()])"
   ]
  }
 ],
 "metadata": {
  "kernelspec": {
   "display_name": "Python 3 (ipykernel)",
   "language": "python",
   "name": "python3"
  },
  "language_info": {
   "codemirror_mode": {
    "name": "ipython",
    "version": 3
   },
   "file_extension": ".py",
   "mimetype": "text/x-python",
   "name": "python",
   "nbconvert_exporter": "python",
   "pygments_lexer": "ipython3",
   "version": "3.7.9"
  }
 },
 "nbformat": 4,
 "nbformat_minor": 5
}

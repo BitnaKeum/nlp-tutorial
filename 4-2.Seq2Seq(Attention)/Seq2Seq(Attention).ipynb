{
 "cells": [
  {
   "cell_type": "code",
   "execution_count": 110,
   "id": "50071ebd",
   "metadata": {},
   "outputs": [],
   "source": [
    "import numpy as np\n",
    "import torch\n",
    "import torch.nn as nn\n",
    "import torch.optim as optim\n",
    "import torch.nn.functional as F\n",
    "import matplotlib.pyplot as plt"
   ]
  },
  {
   "cell_type": "code",
   "execution_count": 111,
   "id": "82d0c1b4",
   "metadata": {},
   "outputs": [],
   "source": [
    "def make_batch():\n",
    "    onehot_vector = np.eye(n_class)\n",
    "    \n",
    "    input_batch = [onehot_vector[[word_to_idx[word] for word in sentences[0].split()]]]\n",
    "    output_batch = [onehot_vector[[word_to_idx[word] for word in sentences[1].split()]]]\n",
    "    target_batch = [[word_to_idx[word] for word in sentences[2].split()]]\n",
    "    \n",
    "    input_batch = torch.FloatTensor(input_batch)\n",
    "    output_batch = torch.FloatTensor(output_batch)\n",
    "    target_batch = torch.LongTensor(target_batch)\n",
    "    \n",
    "    return input_batch, output_batch, target_batch"
   ]
  },
  {
   "cell_type": "code",
   "execution_count": 112,
   "id": "b13f5b0f",
   "metadata": {},
   "outputs": [],
   "source": [
    "class Attention(nn.Module):\n",
    "    def __init__(self):\n",
    "        super(Attention, self).__init__()\n",
    "        \n",
    "        self.enc_cell = nn.RNN(input_size=n_class, hidden_size=n_hidden, dropout=0.5)\n",
    "        self.dec_cell = nn.RNN(input_size=n_class, hidden_size=n_hidden, dropout=0.5)\n",
    "        \n",
    "        # Linear for Attention\n",
    "        self.attn = nn.Linear(n_hidden, n_hidden)\n",
    "        self.out = nn.Linear(n_hidden * 2, n_class)\n",
    "        \n",
    "        \n",
    "    def forward(self, enc_inputs, hidden, dec_inputs):\n",
    "        enc_inputs = enc_inputs.transpose(0, 1) # (n_step, batch_size, n_class)\n",
    "        dec_inputs = dec_inputs.transpose(0, 1) # (n_step, batch_size, n_class)\n",
    "        \n",
    "        enc_outputs, hidden = self.enc_cell(enc_inputs, hidden)\n",
    "        # enc_outputs: (n_step, batch_size, n_hidden)\n",
    "        # hidden: (1*1, batch_size, n_hidden)\n",
    "        \n",
    "        trained_attn = []\n",
    "        n_step = len(dec_inputs)\n",
    "        result = torch.empty([n_step, 1, n_class])\n",
    "        \n",
    "        for i in range(n_step):\n",
    "            dec_output, hidden = self.dec_cell(dec_inputs[i].unsqueeze(0), hidden)\n",
    "            # dec_output: (1, batch_size, n_hidden)\n",
    "            # hidden: (1*1, batch_size, n_hidden)\n",
    "            \n",
    "            attn_weights = self.get_attn_weight(dec_output, enc_outputs) # (1, 1, n_step)\n",
    "            trained_attn.append(attn_weights.squeeze().data.numpy())\n",
    "            \n",
    "            # bmm = batch matrix multiplication (matmul과 비슷)\n",
    "            context_vector = attn_weights.bmm(enc_outputs.transpose(0, 1))\n",
    "            # (1, 1, n_step) x (batch_size(=1), n_step, n_hidden) = (1, 1, n_hidden)\n",
    "            \n",
    "            dec_output = dec_output.squeeze(0) # (batch_size(=1), n_hidden)\n",
    "            context_vector = context_vector.squeeze(1) # (1, n_hidden)\n",
    "            \n",
    "            concat = torch.cat((dec_output, context_vector), 1) # (1, n_hidden * 2)\n",
    "            result[i] = self.out(concat) # (1, n_class)\n",
    "            \n",
    "        return result.transpose(0, 1).squeeze(0), trained_attn # (n_step, n_class), (1, n_step, n_step)\n",
    "            \n",
    "        \n",
    "    def get_attn_weight(self, dec_output, enc_outputs):\n",
    "        # get attention weight of one 'dec_output' with 'enc_outputs'\n",
    "        n_step = len(enc_outputs)\n",
    "        attn_scores = torch.zeros(n_step)\n",
    "        \n",
    "        for i in range(n_step):\n",
    "            attn_scores[i] = self.get_attn_score(dec_output, enc_outputs[i])\n",
    "        \n",
    "        return F.softmax(attn_scores, dim=0).view(1, 1, -1) # (1, 1, n_step)\n",
    "        \n",
    "            \n",
    "    def get_attn_score(self, dec_output, enc_output):\n",
    "        # dec_output: (1, batch_size, n_hidden)\n",
    "        # enc_output: (batch_size, n_hidden)\n",
    "        score = self.attn(enc_output) # (batch_size, n_hidden)\n",
    "        return torch.dot(dec_output.view(-1), score.view(-1))"
   ]
  },
  {
   "cell_type": "code",
   "execution_count": 113,
   "id": "faed288c",
   "metadata": {},
   "outputs": [],
   "source": [
    "n_step = 5\n",
    "n_hidden = 128"
   ]
  },
  {
   "cell_type": "code",
   "execution_count": 114,
   "id": "1b5f494c",
   "metadata": {},
   "outputs": [],
   "source": [
    "sentences = [\"ich mochte ein bier P\", \"S i want a beer\", \"i want a beer E\"]\n",
    "\n",
    "word_list = list(set(\" \".join(sentences).split()))\n",
    "word_to_idx = {word: idx for idx, word in enumerate(word_list)}\n",
    "idx_to_word = {idx: word for idx, word in enumerate(word_list)}\n",
    "n_class = len(word_list)\n",
    "batch_size = 1"
   ]
  },
  {
   "cell_type": "code",
   "execution_count": 115,
   "id": "1f61e8bc",
   "metadata": {},
   "outputs": [],
   "source": [
    "model = Attention()\n",
    "\n",
    "criterion = nn.CrossEntropyLoss()\n",
    "optimizer = optim.Adam(model.parameters(), lr=0.001)"
   ]
  },
  {
   "cell_type": "code",
   "execution_count": 116,
   "id": "d9f3b89d",
   "metadata": {},
   "outputs": [],
   "source": [
    "input_batch, output_batch, target_batch = make_batch()"
   ]
  },
  {
   "cell_type": "code",
   "execution_count": 117,
   "id": "b36a43e9",
   "metadata": {},
   "outputs": [
    {
     "name": "stdout",
     "output_type": "stream",
     "text": [
      "Epoch :  100  loss: 0.003183\n",
      "Epoch :  200  loss: 0.001320\n",
      "Epoch :  300  loss: 0.000731\n",
      "Epoch :  400  loss: 0.000468\n",
      "Epoch :  500  loss: 0.000327\n",
      "Epoch :  600  loss: 0.000242\n",
      "Epoch :  700  loss: 0.000186\n",
      "Epoch :  800  loss: 0.000148\n",
      "Epoch :  900  loss: 0.000120\n",
      "Epoch : 1000  loss: 0.000100\n"
     ]
    }
   ],
   "source": [
    "# Training\n",
    "for epoch in range(1000):\n",
    "    optimizer.zero_grad()\n",
    "    \n",
    "    hidden = torch.zeros([1*1, batch_size, n_hidden])\n",
    "    output, _ = model(input_batch, hidden, output_batch) # (n_step, n_class)\n",
    "    \n",
    "    # target_batch: (1, n_step, n_class)\n",
    "    loss = criterion(output, target_batch.squeeze(0))\n",
    "    if (epoch + 1) % 100 == 0:\n",
    "        print(\"Epoch : {:4d}  loss: {:.6f}\".format(epoch + 1, loss))\n",
    "        \n",
    "    loss.backward()\n",
    "    optimizer.step()"
   ]
  },
  {
   "cell_type": "code",
   "execution_count": 118,
   "id": "2d3eed42",
   "metadata": {},
   "outputs": [
    {
     "name": "stdout",
     "output_type": "stream",
     "text": [
      "ich mochte ein bier P -> i want a beer E\n"
     ]
    }
   ],
   "source": [
    "# Test\n",
    "onehot_vector = np.eye(n_class)\n",
    "test_batch = [onehot_vector[[word_to_idx[word] for word in 'SPPPP']]]\n",
    "test_batch = torch.FloatTensor(test_batch)\n",
    "hidden = torch.zeros([1*1, batch_size, n_hidden])\n",
    "\n",
    "predicts, trained_attn = model(input_batch, hidden, test_batch)\n",
    "predicts = predicts.data.max(1, keepdim=True)[1]\n",
    "\n",
    "print(sentences[0], '->', \" \".join([idx_to_word[predict.item()] for predict in predicts.squeeze()]))"
   ]
  },
  {
   "cell_type": "code",
   "execution_count": 119,
   "id": "b8c8950f",
   "metadata": {},
   "outputs": [
    {
     "data": {
      "image/png": "[encoded data removed]",
      "text/plain": [
       "<Figure size 360x360 with 1 Axes>"
      ]
     },
     "metadata": {
      "needs_background": "light"
     },
     "output_type": "display_data"
    }
   ],
   "source": [
    "# Show Attention\n",
    "fig = plt.figure(figsize=(5, 5))\n",
    "ax = fig.add_subplot(1, 1, 1)\n",
    "ax.matshow(trained_attn, cmap='viridis')\n",
    "ax.set_xticks([0,1,2,3,4])\n",
    "ax.set_yticks([0,1,2,3,4])\n",
    "ax.set_xticklabels(sentences[0].split())\n",
    "ax.set_yticklabels(sentences[2].split())\n",
    "plt.show()"
   ]
  }
 ],
 "metadata": {
  "kernelspec": {
   "display_name": "Python 3 (ipykernel)",
   "language": "python",
   "name": "python3"
  },
  "language_info": {
   "codemirror_mode": {
    "name": "ipython",
    "version": 3
   },
   "file_extension": ".py",
   "mimetype": "text/x-python",
   "name": "python",
   "nbconvert_exporter": "python",
   "pygments_lexer": "ipython3",
   "version": "3.7.9"
  }
 },
 "nbformat": 4,
 "nbformat_minor": 5
}

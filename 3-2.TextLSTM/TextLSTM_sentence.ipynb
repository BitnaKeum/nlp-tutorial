{
 "cells": [
  {
   "cell_type": "code",
   "execution_count": 44,
   "id": "798171c2",
   "metadata": {},
   "outputs": [],
   "source": [
    "import numpy as np\n",
    "import torch\n",
    "import torch.nn as nn\n",
    "import torch.optim as optim"
   ]
  },
  {
   "cell_type": "code",
   "execution_count": 45,
   "id": "6b35c3c0",
   "metadata": {},
   "outputs": [],
   "source": [
    "def make_batch():\n",
    "    input_batch, target_batch = [], []\n",
    "    \n",
    "    for sentence in sentences:\n",
    "        sentence_words = sentence.split()\n",
    "        input = [word_to_idx[word] for word in sentence_words[:-1]]\n",
    "        target = word_to_idx[sentence_words[-1]]\n",
    "        \n",
    "        input_vector = np.eye(vocab_size)\n",
    "        \n",
    "        input_batch.append(input_vector[input])\n",
    "        target_batch.append(target)\n",
    "        \n",
    "    return input_batch, target_batch"
   ]
  },
  {
   "cell_type": "code",
   "execution_count": 55,
   "id": "9af7f037",
   "metadata": {},
   "outputs": [],
   "source": [
    "class TextLSTM(nn.Module):\n",
    "    def __init__(self):\n",
    "        super(TextLSTM, self).__init__()\n",
    "        \n",
    "        self.lstm = nn.LSTM(input_size=vocab_size, hidden_size=n_hidden)\n",
    "        self.W = nn.Linear(n_hidden, vocab_size, bias=False) # n_hidden x vocab_size\n",
    "        self.b = nn.Parameter(torch.ones([vocab_size]))\n",
    "        \n",
    "    def forward(self, X):\n",
    "        # X: (batch_size, n_step, vocab_size)\n",
    "        \n",
    "        X = X.transpose(0, 1) # (n_step, batch_size, vocab_size)\n",
    "        hidden_state = torch.zeros(1, batch_size, n_hidden)\n",
    "        cell_state = torch.zeros(1, batch_size, n_hidden)\n",
    "        \n",
    "        outputs, (_, _) = self.lstm(X, (hidden_state, cell_state))\n",
    "        outputs = outputs[-1] # (batch_size, n_hidden)\n",
    "        result = self.W(outputs) + self.b # (batch_size, vocab_size)\n",
    "        return result"
   ]
  },
  {
   "cell_type": "code",
   "execution_count": 69,
   "id": "50d00243",
   "metadata": {},
   "outputs": [],
   "source": [
    "n_step = 2 # number of cells(steps), = seq_len - 1\n",
    "n_hidden = 10 # number of hidden units of one cell"
   ]
  },
  {
   "cell_type": "code",
   "execution_count": 70,
   "id": "5fa26069",
   "metadata": {},
   "outputs": [],
   "source": [
    "sentences = ['i drink water', 'i eat food', 'i read book', 'i play guitar', 'dog is cute', 'tiger is scary', 'i love you', 'i hate worm', 'i listen song']\n",
    "word_list = list(set(\" \".join(sentences).split()))\n",
    "\n",
    "word_to_idx = {word: idx for idx, word in enumerate(word_list)}\n",
    "idx_to_word = {idx: word for idx, word in enumerate(word_list)}\n",
    "\n",
    "vocab_size = len(word_list) # number of vocab\n",
    "batch_size = len(sentences)\n",
    "seq_len = 3"
   ]
  },
  {
   "cell_type": "code",
   "execution_count": 71,
   "id": "2c20b132",
   "metadata": {},
   "outputs": [],
   "source": [
    "model = TextLSTM()\n",
    "\n",
    "criterion = nn.CrossEntropyLoss()\n",
    "optimizer = optim.Adam(model.parameters(), lr=0.001)"
   ]
  },
  {
   "cell_type": "code",
   "execution_count": 72,
   "id": "5c6f9edf",
   "metadata": {},
   "outputs": [],
   "source": [
    "input_batch, target_batch = make_batch()\n",
    "input_batch = torch.FloatTensor(input_batch)\n",
    "target_batch = torch.LongTensor(target_batch)"
   ]
  },
  {
   "cell_type": "code",
   "execution_count": 73,
   "id": "82e69679",
   "metadata": {},
   "outputs": [
    {
     "name": "stdout",
     "output_type": "stream",
     "text": [
      "Epoch :  100  loss : 2.607230\n",
      "Epoch :  200  loss : 2.055153\n",
      "Epoch :  300  loss : 1.376193\n",
      "Epoch :  400  loss : 0.763571\n",
      "Epoch :  500  loss : 0.458528\n",
      "Epoch :  600  loss : 0.282576\n",
      "Epoch :  700  loss : 0.182857\n",
      "Epoch :  800  loss : 0.129173\n",
      "Epoch :  900  loss : 0.097505\n",
      "Epoch : 1000  loss : 0.076790\n"
     ]
    }
   ],
   "source": [
    "# Training\n",
    "for epoch in range(1000):\n",
    "    optimizer.zero_grad()\n",
    "    \n",
    "    output = model(input_batch)\n",
    "    loss = criterion(output, target_batch)\n",
    "    if (epoch + 1) % 100 == 0:\n",
    "        print('Epoch : {:4d}  loss : {:.6f}'.format(epoch + 1, loss))\n",
    "        \n",
    "    loss.backward()\n",
    "    optimizer.step()"
   ]
  },
  {
   "cell_type": "code",
   "execution_count": 74,
   "id": "e4e62202",
   "metadata": {},
   "outputs": [],
   "source": [
    "# Predict\n",
    "inputs = [\" \".join(sentence.split()[:-1]) for sentence in sentences]\n",
    "predicts = model(input_batch).data.max(1, keepdim=True)[1].squeeze() "
   ]
  },
  {
   "cell_type": "code",
   "execution_count": 75,
   "id": "004d1ceb",
   "metadata": {},
   "outputs": [
    {
     "data": {
      "text/plain": [
       "tensor([14,  8,  6, 13, 15, 18,  4,  5,  1])"
      ]
     },
     "execution_count": 75,
     "metadata": {},
     "output_type": "execute_result"
    }
   ],
   "source": [
    "predicts # (batch_size)"
   ]
  },
  {
   "cell_type": "code",
   "execution_count": 76,
   "id": "2345481c",
   "metadata": {},
   "outputs": [
    {
     "name": "stdout",
     "output_type": "stream",
     "text": [
      "i drink -> water\n",
      "i eat -> food\n",
      "i read -> book\n",
      "i play -> guitar\n",
      "dog is -> cute\n",
      "tiger is -> scary\n",
      "i love -> you\n",
      "i hate -> worm\n",
      "i listen -> song\n"
     ]
    }
   ],
   "source": [
    "for i, predict in enumerate(predicts):\n",
    "    print(inputs[i], '->', idx_to_word[predict.item()])"
   ]
  },
  {
   "cell_type": "code",
   "execution_count": null,
   "id": "0f5439a9",
   "metadata": {},
   "outputs": [],
   "source": []
  }
 ],
 "metadata": {
  "kernelspec": {
   "display_name": "Python 3 (ipykernel)",
   "language": "python",
   "name": "python3"
  },
  "language_info": {
   "codemirror_mode": {
    "name": "ipython",
    "version": 3
   },
   "file_extension": ".py",
   "mimetype": "text/x-python",
   "name": "python",
   "nbconvert_exporter": "python",
   "pygments_lexer": "ipython3",
   "version": "3.7.9"
  }
 },
 "nbformat": 4,
 "nbformat_minor": 5
}

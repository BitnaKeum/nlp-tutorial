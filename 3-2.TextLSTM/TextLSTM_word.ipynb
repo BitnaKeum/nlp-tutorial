{
 "cells": [
  {
   "cell_type": "code",
   "execution_count": 1,
   "id": "d83abb7a",
   "metadata": {},
   "outputs": [],
   "source": [
    "import numpy as np\n",
    "import torch\n",
    "import torch.nn as nn\n",
    "import torch.optim as optim"
   ]
  },
  {
   "cell_type": "code",
   "execution_count": 5,
   "id": "a9ae2c92",
   "metadata": {},
   "outputs": [],
   "source": [
    "def make_batch():\n",
    "    input_batch, target_batch = [], []\n",
    "    \n",
    "    for seq in seq_data:\n",
    "        input = [ch_to_idx[ch] for ch in seq[:-1]]\n",
    "        target = ch_to_idx[seq[-1]]\n",
    "        \n",
    "        input_vector = np.eye(n_class)\n",
    "        \n",
    "        input_batch.append(input_vector[input])\n",
    "        target_batch.append(target)\n",
    "        \n",
    "    return input_batch, target_batch"
   ]
  },
  {
   "cell_type": "code",
   "execution_count": 7,
   "id": "a5a3b654",
   "metadata": {},
   "outputs": [],
   "source": [
    "class TextLSTM(nn.Module):\n",
    "    def __init__(self):\n",
    "        super(TextLSTM, self).__init__()\n",
    "        \n",
    "        self.lstm = nn.LSTM(input_size=n_class, hidden_size=n_hidden)\n",
    "        self.W = nn.Linear(n_hidden, n_class, bias=False) # n_hidden x n_class\n",
    "        self.b = nn.Parameter(torch.ones([n_class]))\n",
    "        \n",
    "    def forward(self, X):\n",
    "        # X: (batch_size, n_step, vocab_size)\n",
    "        \n",
    "        X = X.transpose(0, 1) # (n_step, batch_size, vocab_size)\n",
    "        hidden_state = torch.zeros(1, batch_size, n_hidden)\n",
    "        cell_state = torch.zeros(1, batch_size, n_hidden)\n",
    "        \n",
    "        outputs, (_, _) = self.lstm(X, (hidden_state, cell_state))\n",
    "        outputs = outputs[-1] # (batch_size, n_hidden)\n",
    "        result = self.W(outputs) + self.b # (batch_size, n_class)\n",
    "        return result"
   ]
  },
  {
   "cell_type": "code",
   "execution_count": 41,
   "id": "23c30a79",
   "metadata": {},
   "outputs": [],
   "source": [
    "n_step = 3 # number of cells(steps), = seq - 1\n",
    "n_hidden = 10 # number of hidden units of one cell\n",
    "\n",
    "ch_list = [ch for ch in 'abcdefghijklmnopqrstuvwxyz']\n",
    "ch_to_idx = {ch: idx for idx, ch in enumerate(ch_list)}\n",
    "idx_to_ch = {idx: ch for idx, ch in enumerate(ch_list)}\n",
    "n_class = len(ch_list) # number of vocab"
   ]
  },
  {
   "cell_type": "code",
   "execution_count": 42,
   "id": "5e0426a7",
   "metadata": {},
   "outputs": [],
   "source": [
    "seq_data = ['make', 'need', 'coal', 'word', 'love', 'hate', 'live', 'home', 'hash']\n",
    "\n",
    "batch_size = len(seq_data)"
   ]
  },
  {
   "cell_type": "code",
   "execution_count": 43,
   "id": "a6feb922",
   "metadata": {},
   "outputs": [],
   "source": [
    "model = TextLSTM()\n",
    "\n",
    "criterion = nn.CrossEntropyLoss()\n",
    "optimizer = optim.Adam(model.parameters(), lr=0.001)"
   ]
  },
  {
   "cell_type": "code",
   "execution_count": 44,
   "id": "05f9f5a6",
   "metadata": {},
   "outputs": [],
   "source": [
    "input_batch, target_batch = make_batch()\n",
    "input_batch = torch.FloatTensor(input_batch)\n",
    "target_batch = torch.LongTensor(target_batch)"
   ]
  },
  {
   "cell_type": "code",
   "execution_count": 45,
   "id": "7569fdbc",
   "metadata": {},
   "outputs": [
    {
     "name": "stdout",
     "output_type": "stream",
     "text": [
      "Epoch :  100  loss : 2.512672\n",
      "Epoch :  200  loss : 1.317537\n",
      "Epoch :  300  loss : 1.041553\n",
      "Epoch :  400  loss : 0.732688\n",
      "Epoch :  500  loss : 0.461911\n",
      "Epoch :  600  loss : 0.289294\n",
      "Epoch :  700  loss : 0.174738\n",
      "Epoch :  800  loss : 0.102245\n",
      "Epoch :  900  loss : 0.069598\n",
      "Epoch : 1000  loss : 0.051509\n"
     ]
    }
   ],
   "source": [
    "# Training\n",
    "for epoch in range(1000):\n",
    "    optimizer.zero_grad()\n",
    "    \n",
    "    output = model(input_batch)\n",
    "    loss = criterion(output, target_batch)\n",
    "    if (epoch + 1) % 100 == 0:\n",
    "        print('Epoch : {:4d}  loss : {:.6f}'.format(epoch + 1, loss))\n",
    "        \n",
    "    loss.backward()\n",
    "    optimizer.step()"
   ]
  },
  {
   "cell_type": "code",
   "execution_count": 46,
   "id": "cf64d1c3",
   "metadata": {},
   "outputs": [],
   "source": [
    "# Predict\n",
    "inputs = [seq[:-1] for seq in seq_data]\n",
    "predict = model(input_batch).data.max(1, keepdim=True)[1].squeeze() "
   ]
  },
  {
   "cell_type": "code",
   "execution_count": 47,
   "id": "d7ca3c5e",
   "metadata": {},
   "outputs": [
    {
     "data": {
      "text/plain": [
       "tensor([ 4,  3, 11,  3,  4,  4,  4,  4,  7])"
      ]
     },
     "execution_count": 47,
     "metadata": {},
     "output_type": "execute_result"
    }
   ],
   "source": [
    "predict # (batch_size)"
   ]
  },
  {
   "cell_type": "code",
   "execution_count": 48,
   "id": "82af07a6",
   "metadata": {},
   "outputs": [
    {
     "name": "stdout",
     "output_type": "stream",
     "text": [
      "mak -> e\n",
      "nee -> d\n",
      "coa -> l\n",
      "wor -> d\n",
      "lov -> e\n",
      "hat -> e\n",
      "liv -> e\n",
      "hom -> e\n",
      "has -> h\n"
     ]
    }
   ],
   "source": [
    "for i, idx in enumerate(predict):\n",
    "    print(inputs[i], '->', idx_to_ch[idx.item()])"
   ]
  }
 ],
 "metadata": {
  "kernelspec": {
   "display_name": "Python 3 (ipykernel)",
   "language": "python",
   "name": "python3"
  },
  "language_info": {
   "codemirror_mode": {
    "name": "ipython",
    "version": 3
   },
   "file_extension": ".py",
   "mimetype": "text/x-python",
   "name": "python",
   "nbconvert_exporter": "python",
   "pygments_lexer": "ipython3",
   "version": "3.7.9"
  }
 },
 "nbformat": 4,
 "nbformat_minor": 5
}
